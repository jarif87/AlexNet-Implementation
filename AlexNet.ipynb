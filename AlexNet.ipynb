{
 "cells": [
  {
   "cell_type": "code",
   "execution_count": 2,
   "id": "b1ade7d3-871f-449f-8a4c-f8537199dba9",
   "metadata": {},
   "outputs": [],
   "source": [
    "import tensorflow as tf\n",
    "from tensorflow.keras.models import Sequential\n",
    "from tensorflow.keras.layers import Dense, Flatten, Conv2D, MaxPooling2D"
   ]
  },
  {
   "cell_type": "markdown",
   "id": "5c0e5de8-c617-4903-8ecc-d962f3280f1a",
   "metadata": {},
   "source": [
    "* \"channel_first\" --> (batch, channel, height, width)\n",
    "* \"channel_last\" --->(batch, height, width, channels)"
   ]
  },
  {
   "cell_type": "code",
   "execution_count": 6,
   "id": "2582ad0a-bfc9-486f-8e4e-15dca8375366",
   "metadata": {},
   "outputs": [
    {
     "name": "stderr",
     "output_type": "stream",
     "text": [
      "2022-06-29 21:30:02.777766: I tensorflow/core/platform/cpu_feature_guard.cc:193] This TensorFlow binary is optimized with oneAPI Deep Neural Network Library (oneDNN) to use the following CPU instructions in performance-critical operations:  AVX2 FMA\n",
      "To enable them in other operations, rebuild TensorFlow with the appropriate compiler flags.\n"
     ]
    }
   ],
   "source": [
    "models = Sequential()\n",
    "\n",
    "\n",
    "#1st Conv2D Layer\n",
    "models.add(Conv2D(96, kernel_size = (11, 11), strides = (4, 4), \n",
    "                 padding = \"valid\", activation  = 'relu', input_shape = (227, 227, 3)))\n",
    "models.add(MaxPooling2D(pool_size = (3, 3),\n",
    "                       strides = (2, 2), padding = \"valid\",\n",
    "                       data_format = None))\n",
    "\n",
    "\n",
    "\n",
    "#2nd Conv2D Layer\n",
    "\n",
    "models.add(Conv2D(256, kernel_size = (5, 5), strides = 1, \n",
    "                 padding = \"same\", activation  = 'relu'))\n",
    "\n",
    "models.add(MaxPooling2D(pool_size = (3, 3),\n",
    "                       strides = (2, 2), padding = \"valid\",#\"same\"\n",
    "                       data_format = None))\n",
    "\n",
    "\n",
    "\n",
    "\n",
    "#3rd Conv2D Layer\n",
    "models.add(Conv2D(384, kernel_size = (3, 3), strides = 1, \n",
    "                 padding = \"same\", activation  = 'relu'))\n",
    "\n",
    "\n",
    "\n",
    "#4th Conv2D Layer\n",
    "models.add(Conv2D(384, kernel_size = (3, 3), strides = 1, \n",
    "                 padding = \"same\", activation  = 'relu'))\n",
    "\n",
    "\n",
    "#5th Conv2D Layer\n",
    "\n",
    "models.add(Conv2D(256, kernel_size = (3, 3), strides = 1, \n",
    "                 padding = \"same\", activation  = 'relu'))\n",
    "\n",
    "models.add(MaxPooling2D(pool_size = (3, 3),\n",
    "                       strides = (2, 2), padding = \"valid\",#\"same\"\n",
    "                       data_format = None))\n",
    "\n",
    "\n",
    "# Flatten Layer\n",
    "models.add(Flatten())\n",
    "\n",
    "models.add(Dense(4096, activation = 'relu'))\n",
    "models.add(Dense(4096, activation = 'relu'))\n",
    "#models.add(Dense(1000, activation = 'relu'))\n",
    "models.add(Dense(2, activation = 'softmax'))\n",
    "\n",
    "\n",
    "\n",
    "models.compile(loss = \"categorical_crossentorpy\",\n",
    "              optimizer = 'adam',\n",
    "              metrics = ['accuracy'])"
   ]
  },
  {
   "cell_type": "code",
   "execution_count": null,
   "id": "baec4476-3d54-42f6-974c-b6ad573a7808",
   "metadata": {},
   "outputs": [],
   "source": []
  }
 ],
 "metadata": {
  "kernelspec": {
   "display_name": "Python 3 (ipykernel)",
   "language": "python",
   "name": "python3"
  },
  "language_info": {
   "codemirror_mode": {
    "name": "ipython",
    "version": 3
   },
   "file_extension": ".py",
   "mimetype": "text/x-python",
   "name": "python",
   "nbconvert_exporter": "python",
   "pygments_lexer": "ipython3",
   "version": "3.7.13"
  }
 },
 "nbformat": 4,
 "nbformat_minor": 5
}
